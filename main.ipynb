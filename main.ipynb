{
 "cells": [
  {
   "cell_type": "markdown",
   "metadata": {},
   "source": [
    "## Setup"
   ]
  },
  {
   "cell_type": "code",
   "execution_count": 1,
   "metadata": {},
   "outputs": [],
   "source": [
    "import jax\n",
    "import jax.numpy as jnp\n",
    "from jax import scipy, random\n",
    "from jaxopt import LBFGS"
   ]
  },
  {
   "cell_type": "code",
   "execution_count": 2,
   "metadata": {},
   "outputs": [],
   "source": [
    "def generative_model(key, alpha, beta, pi, n_samples):\n",
    "    \"\"\"\n",
    "    Simulates the generative model described in the text.\n",
    "\n",
    "    Parameters:\n",
    "    - key: JAX random key.\n",
    "    - alpha: Dirichlet concentration parameters (m-dimensional).\n",
    "    - beta: Category probabilities for Y|Z=0 (m-dimensional).\n",
    "    - pi: Bernoulli parameter for Z.\n",
    "    - n_samples: Number of samples to generate.\n",
    "\n",
    "    Returns:\n",
    "    - g_X: Predictions g(X), sampled from Dir(alpha).\n",
    "    - Z: Latent variable Z, sampled from Ber(pi).\n",
    "    - Y: Labels Y, sampled conditionally on Z and g(X).\n",
    "    \"\"\"\n",
    "    keys = jax.random.split(key, 3)\n",
    "\n",
    "    # Sample g(X) ~ Dir(alpha)\n",
    "    g_X = jax.random.dirichlet(keys[0], alpha, shape=(n_samples,))\n",
    "\n",
    "    # Sample Z ~ Ber(pi)\n",
    "    Z = jax.random.bernoulli(keys[1], p=pi, shape=(n_samples,)).astype(jnp.float32)\n",
    "\n",
    "    # Compute the combined distribution for Y\n",
    "    dist = (1 - Z[:, None]) * g_X + Z[:, None] * beta[None, :]\n",
    "\n",
    "    # Sample Y from the categorical distribution using dist\n",
    "    Y = jax.random.categorical(keys[2], logits=jnp.log(dist), axis=1)\n",
    "\n",
    "    return g_X, Z, Y"
   ]
  },
  {
   "cell_type": "markdown",
   "metadata": {},
   "source": [
    "## Calibration Errors"
   ]
  },
  {
   "cell_type": "code",
   "execution_count": null,
   "metadata": {},
   "outputs": [],
   "source": []
  }
 ],
 "metadata": {
  "kernelspec": {
   "display_name": "jax_gpu",
   "language": "python",
   "name": "python3"
  },
  "language_info": {
   "codemirror_mode": {
    "name": "ipython",
    "version": 3
   },
   "file_extension": ".py",
   "mimetype": "text/x-python",
   "name": "python",
   "nbconvert_exporter": "python",
   "pygments_lexer": "ipython3",
   "version": "3.11.10"
  }
 },
 "nbformat": 4,
 "nbformat_minor": 2
}
